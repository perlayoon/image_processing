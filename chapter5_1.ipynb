{
 "cells": [
  {
   "cell_type": "code",
   "execution_count": 1,
   "metadata": {},
   "outputs": [],
   "source": [
    "# 1. 기본 라이브러리 불러오기\n",
    "import cv2 # 컴퓨터비전용 라이브러리\n",
    "import numpy as np # 행렬 연산\n",
    "import matplotlib.pyplot as plt # 시각화 라이브러리"
   ]
  },
  {
   "cell_type": "code",
   "execution_count": 9,
   "metadata": {},
   "outputs": [
    {
     "name": "stdout",
     "output_type": "stream",
     "text": [
      "[[6 6 6 7]\n",
      " [4 5 5 3]\n",
      " [2 1 1 3]\n",
      " [0 0 1 3]]\n"
     ]
    }
   ],
   "source": [
    "# 2. 예제 영상 생성하기\n",
    "img = np.array([[6,6,6,7],[4,5,5,3],[2,1,1,3],[0,0,1,3]])\n",
    "h, w = img.shape\n",
    "print(img)"
   ]
  },
  {
   "cell_type": "code",
   "execution_count": 14,
   "metadata": {},
   "outputs": [
    {
     "name": "stdout",
     "output_type": "stream",
     "text": [
      "[0. 0. 0. 0. 0. 0. 0. 0.]\n"
     ]
    }
   ],
   "source": [
    "# 3. bin 히스토그램 생성하기\n",
    "num_bin = 2**3 # 0~7: 3bit\n",
    "hist = np.zeros(num_bin)\n",
    "print(hist)"
   ]
  },
  {
   "cell_type": "code",
   "execution_count": 15,
   "metadata": {},
   "outputs": [
    {
     "name": "stdout",
     "output_type": "stream",
     "text": [
      "[2. 3. 1. 3. 1. 2. 3. 1.]\n"
     ]
    }
   ],
   "source": [
    "# 4. 중첩 반복문을 활용하여 빈도 수 측정하기\n",
    "for i in range(0, h):\n",
    "    for j in range(0, w):\n",
    "        hist[img[i, j]] += 1\n",
    "print(hist)"
   ]
  },
  {
   "cell_type": "code",
   "execution_count": 22,
   "metadata": {},
   "outputs": [
    {
     "name": "stdout",
     "output_type": "stream",
     "text": [
      "[2. 3. 1. 3. 1. 2. 3. 1.]\n"
     ]
    }
   ],
   "source": [
    "hist1 = np.zeros(num_bin)\n",
    "for i in range(0, num_bin):\n",
    "    hist1[i] = np.sum(img == i)\n",
    "print(hist)"
   ]
  },
  {
   "cell_type": "code",
   "execution_count": 16,
   "metadata": {},
   "outputs": [
    {
     "data": {
      "text/plain": [
       "<BarContainer object of 8 artists>"
      ]
     },
     "execution_count": 16,
     "metadata": {},
     "output_type": "execute_result"
    },
    {
     "data": {
      "image/png": "[encoded data removed]",
      "text/plain": [
       "<Figure size 432x288 with 1 Axes>"
      ]
     },
     "metadata": {
      "needs_background": "light"
     },
     "output_type": "display_data"
    }
   ],
   "source": [
    "# 5. matplotlib.pyplot을 이용하여 결과 히스토그램 출력하기\n",
    "plt.bar(range(0, num_bin), hist)"
   ]
  },
  {
   "cell_type": "code",
   "execution_count": 18,
   "metadata": {},
   "outputs": [
    {
     "name": "stdout",
     "output_type": "stream",
     "text": [
      "[2. 3. 1. 3. 1. 2. 3. 1.]\n"
     ]
    }
   ],
   "source": [
    "# 6. 반복적으로 사용할 “사용자 정의 함수를 생성”해보자\n",
    "def CalcHistogram(img,num_bin):\n",
    "    h, w = img.shape\n",
    "    hist = np.zeros(num_bin)\n",
    "    for i in range(0, h):\n",
    "        for j in range(0, w):\n",
    "            hist[img[i, j]] += 1\n",
    "    return hist\n",
    "\n",
    "A = CalcHistogram(img,num_bin)\n",
    "print(A)"
   ]
  },
  {
   "cell_type": "code",
   "execution_count": null,
   "metadata": {},
   "outputs": [],
   "source": []
  }
 ],
 "metadata": {
  "kernelspec": {
   "display_name": "Python 3",
   "language": "python",
   "name": "python3"
  },
  "language_info": {
   "codemirror_mode": {
    "name": "ipython",
    "version": 3
   },
   "file_extension": ".py",
   "mimetype": "text/x-python",
   "name": "python",
   "nbconvert_exporter": "python",
   "pygments_lexer": "ipython3",
   "version": "3.8.3"
  }
 },
 "nbformat": 4,
 "nbformat_minor": 4
}
