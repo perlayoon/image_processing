{
 "cells": [
  {
   "cell_type": "code",
   "execution_count": 12,
   "metadata": {},
   "outputs": [],
   "source": [
    "# 1. 기본 라이브러리 불러오기\n",
    "import cv2\n",
    "import numpy as np\n",
    "import matplotlib.pyplot as plt\n",
    "from matplotlib.colors import NoNorm"
   ]
  },
  {
   "cell_type": "code",
   "execution_count": 13,
   "metadata": {},
   "outputs": [
    {
     "name": "stdout",
     "output_type": "stream",
     "text": [
      "[[5 2 1]\n",
      " [6 9 3]\n",
      " [7 2 6]]\n"
     ]
    }
   ],
   "source": [
    "# 2. (numpy) 샘플 이미지(sample) 생성하기\n",
    "sample = np.array([[5,2,1], [6,9,3], [7,2,6]])\n",
    "print(sample)"
   ]
  },
  {
   "cell_type": "code",
   "execution_count": 14,
   "metadata": {},
   "outputs": [],
   "source": [
    "# default user parameter\n",
    "n = 3"
   ]
  },
  {
   "cell_type": "code",
   "execution_count": 15,
   "metadata": {},
   "outputs": [],
   "source": [
    "# 5. 일반화 된 연산자 함수 설계하기\n",
    "def HomogeneityOperator(inp,n):\n",
    "    k = np.uint8((n-1)/2)\n",
    "    h,w = inp.shape\n",
    "    \n",
    "    inp_pad = np.zeros((h+2*k,w+2*k))\n",
    "    inp_pad[k:h+k,k:w+k] = inp    \n",
    "    \n",
    "    out = np.zeros((h+2*k,w+2*k))\n",
    "    for i in range(k,h+k):\n",
    "        for j in range(k,w+k):\n",
    "            temp = inp_pad[i-k:i+k+1,j-k:j+k+1]\n",
    "            out[i,j] = np.max(np.abs([temp[1,1]- temp]))\n",
    "    out = out[k:h+k,k:w+k]\n",
    "    return np.uint8(out)"
   ]
  },
  {
   "cell_type": "code",
   "execution_count": 16,
   "metadata": {},
   "outputs": [],
   "source": [
    "def DifferenceOperator(inp,n):\n",
    "    k = np.uint8((n-1)/2)\n",
    "    h,w = inp.shape\n",
    "    \n",
    "    inp_pad = np.zeros((h+2*k,w+2*k))\n",
    "    inp_pad[k:h+k,k:w+k] = inp    \n",
    "    \n",
    "    out = np.zeros((h+2*k,w+2*k))\n",
    "    for i in range(k,h+k):\n",
    "        for j in range(k,w+k):\n",
    "            temp = inp_pad[i-k:i+k+1,j-k:j+k+1]\n",
    "            out[i,j] = np.max(np.abs([temp[0,0] - temp[2,2],\\\n",
    "                                      temp[0,1] - temp[2,1],\\\n",
    "                                      temp[0,2] - temp[2,0],\\\n",
    "                                      temp[1,0] - temp[1,2]]))\n",
    "    out = out[k:h+k,k:w+k]\n",
    "    return np.uint8(out)"
   ]
  },
  {
   "cell_type": "code",
   "execution_count": 17,
   "metadata": {},
   "outputs": [
    {
     "name": "stdout",
     "output_type": "stream",
     "text": [
      "220\n",
      "220\n"
     ]
    }
   ],
   "source": [
    "inp = cv2.imread('images/Lenna.png', cv2.IMREAD_GRAYSCALE)\n",
    "out1 = HomogeneityOperator(inp,n)\n",
    "out2 = DifferenceOperator(inp,n)\n",
    "print(np.max(out1))\n",
    "print(np.max(out2))"
   ]
  },
  {
   "cell_type": "code",
   "execution_count": null,
   "metadata": {},
   "outputs": [],
   "source": []
  }
 ],
 "metadata": {
  "kernelspec": {
   "display_name": "Python 3",
   "language": "python",
   "name": "python3"
  },
  "language_info": {
   "codemirror_mode": {
    "name": "ipython",
    "version": 3
   },
   "file_extension": ".py",
   "mimetype": "text/x-python",
   "name": "python",
   "nbconvert_exporter": "python",
   "pygments_lexer": "ipython3",
   "version": "3.8.3"
  }
 },
 "nbformat": 4,
 "nbformat_minor": 4
}
