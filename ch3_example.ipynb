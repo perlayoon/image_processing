{
 "cells": [
  {
   "cell_type": "code",
   "execution_count": 4,
   "metadata": {},
   "outputs": [],
   "source": [
    "import cv2 # computer vision\n",
    "import numpy as np"
   ]
  },
  {
   "cell_type": "code",
   "execution_count": 5,
   "metadata": {},
   "outputs": [],
   "source": [
    "# 이미지 불러오기\n",
    "img1 = cv2.imread(\"images/matplot.jpg\", cv2.IMREAD_UNCHANGED)\n",
    "img2 = cv2.imread(\"images/matplot.jpg\", cv2.IMREAD_GRAYSCALE)\n",
    "img3 = cv2.imread(\"images/matplot.jpg\", cv2.IMREAD_COLOR)"
   ]
  },
  {
   "cell_type": "code",
   "execution_count": 6,
   "metadata": {},
   "outputs": [],
   "source": [
    "# 이미지 출력(나타내기)\n",
    "cv2.imshow('image2', img2)\n",
    "cv2.waitKey(0) # 다음 입력이 들어오기 전까지 띄어놓음\n",
    "cv2.destroyAllWindows() # 키를 누르면 이미지 창이 닫힘"
   ]
  },
  {
   "cell_type": "code",
   "execution_count": 7,
   "metadata": {},
   "outputs": [
    {
     "data": {
      "text/plain": [
       "True"
      ]
     },
     "execution_count": 7,
     "metadata": {},
     "output_type": "execute_result"
    }
   ],
   "source": [
    "cv2.imwrite(\"images/result_matplot1.jpg\", img1)\n",
    "cv2.imwrite(\"images/result_matplot2.jpg\", img2)\n",
    "cv2.imwrite(\"images/result_matplot3.jpg\", img3)"
   ]
  },
  {
   "cell_type": "code",
   "execution_count": 8,
   "metadata": {},
   "outputs": [
    {
     "data": {
      "text/plain": [
       "array([[187, 189, 185, ..., 186, 184, 183],\n",
       "       [186, 189, 185, ..., 187, 185, 184],\n",
       "       [186, 189, 185, ..., 187, 187, 186],\n",
       "       ...,\n",
       "       [120, 120, 113, ..., 209, 207, 207],\n",
       "       [112, 107, 102, ..., 184, 188, 193],\n",
       "       [116, 106, 102, ..., 143, 141, 145]], dtype=uint8)"
      ]
     },
     "execution_count": 8,
     "metadata": {},
     "output_type": "execute_result"
    }
   ],
   "source": [
    "img2"
   ]
  },
  {
   "cell_type": "code",
   "execution_count": 8,
   "metadata": {},
   "outputs": [
    {
     "data": {
      "text/plain": [
       "array([[185, 187, 183, ..., 184, 182, 181],\n",
       "       [184, 187, 183, ..., 185, 183, 182],\n",
       "       [184, 187, 183, ..., 185, 185, 184],\n",
       "       ...,\n",
       "       [111, 109, 102, ..., 214, 212, 212],\n",
       "       [103,  96,  91, ..., 189, 193, 198],\n",
       "       [107,  95,  91, ..., 148, 146, 150]], dtype=uint8)"
      ]
     },
     "execution_count": 8,
     "metadata": {},
     "output_type": "execute_result"
    }
   ],
   "source": [
    "img1[:, :, 0] # [:, :, 0], [:, :, 1], [:, :, 2] (r, g, b)"
   ]
  },
  {
   "cell_type": "code",
   "execution_count": 10,
   "metadata": {},
   "outputs": [
    {
     "name": "stdout",
     "output_type": "stream",
     "text": [
      "[1 3 5]\n"
     ]
    }
   ],
   "source": [
    "x = np.array([1, 3, 5])\n",
    "print(x)"
   ]
  },
  {
   "cell_type": "code",
   "execution_count": 9,
   "metadata": {},
   "outputs": [
    {
     "name": "stdout",
     "output_type": "stream",
     "text": [
      "[[1 3 5]\n",
      " [2 4 6]]\n"
     ]
    }
   ],
   "source": [
    "x1 = np.array([[1, 3, 5], [2, 4, 6]])\n",
    "print(x1)"
   ]
  },
  {
   "cell_type": "code",
   "execution_count": 11,
   "metadata": {},
   "outputs": [
    {
     "name": "stdout",
     "output_type": "stream",
     "text": [
      "[[1 3 5 2 4 6]]\n"
     ]
    }
   ],
   "source": [
    "y1 = x1.reshape(1, 6)\n",
    "print(y1)"
   ]
  },
  {
   "cell_type": "markdown",
   "metadata": {},
   "source": [
    "print(x.mean())\n",
    "print(x1.mean())"
   ]
  },
  {
   "cell_type": "code",
   "execution_count": 15,
   "metadata": {},
   "outputs": [
    {
     "name": "stdout",
     "output_type": "stream",
     "text": [
      "(300, 240)\n"
     ]
    }
   ],
   "source": [
    "print(img2.shape)"
   ]
  },
  {
   "cell_type": "code",
   "execution_count": 16,
   "metadata": {},
   "outputs": [
    {
     "name": "stdout",
     "output_type": "stream",
     "text": [
      "(300, 240, 3)\n"
     ]
    }
   ],
   "source": [
    "print(img3.shape)"
   ]
  },
  {
   "cell_type": "code",
   "execution_count": 18,
   "metadata": {},
   "outputs": [
    {
     "name": "stdout",
     "output_type": "stream",
     "text": [
      "[[1. 1. 1. 1. 1. 1.]\n",
      " [1. 1. 1. 1. 1. 1.]]\n"
     ]
    }
   ],
   "source": [
    "x2 = np.ones([2, 6])\n",
    "print(x2)"
   ]
  },
  {
   "cell_type": "code",
   "execution_count": 22,
   "metadata": {},
   "outputs": [
    {
     "name": "stdout",
     "output_type": "stream",
     "text": [
      "[[137. 137. 137. 137. 137. 137.]\n",
      " [137. 137. 137. 137. 137. 137.]]\n"
     ]
    }
   ],
   "source": [
    "x2 = np.zeros([2, 6]) + 137\n",
    "print(x2)"
   ]
  },
  {
   "cell_type": "code",
   "execution_count": 26,
   "metadata": {},
   "outputs": [
    {
     "name": "stdout",
     "output_type": "stream",
     "text": [
      "[[ 1  2  3  4]\n",
      " [ 5  6  7  8]\n",
      " [ 9 10 11 12]]\n",
      "7\n"
     ]
    }
   ],
   "source": [
    "x3 = np.array([[1, 2, 3, 4], [5, 6, 7, 8], [9, 10, 11, 12]])\n",
    "print(x3)\n",
    "print(x3[1, 2]) # 행 열로 접근"
   ]
  },
  {
   "cell_type": "code",
   "execution_count": 27,
   "metadata": {},
   "outputs": [
    {
     "name": "stdout",
     "output_type": "stream",
     "text": [
      "[1 2 3 4]\n"
     ]
    }
   ],
   "source": [
    "print(x3[0, :])"
   ]
  },
  {
   "cell_type": "code",
   "execution_count": 30,
   "metadata": {},
   "outputs": [
    {
     "data": {
      "text/plain": [
       "array([[185, 187, 183, ..., 184, 182, 181],\n",
       "       [184, 187, 183, ..., 185, 183, 182],\n",
       "       [184, 187, 183, ..., 185, 185, 184],\n",
       "       ...,\n",
       "       [111, 109, 102, ..., 214, 212, 212],\n",
       "       [103,  96,  91, ..., 189, 193, 198],\n",
       "       [107,  95,  91, ..., 148, 146, 150]], dtype=uint8)"
      ]
     },
     "execution_count": 30,
     "metadata": {},
     "output_type": "execute_result"
    }
   ],
   "source": [
    "img1[:, :, 0]"
   ]
  },
  {
   "cell_type": "code",
   "execution_count": 33,
   "metadata": {},
   "outputs": [
    {
     "name": "stdout",
     "output_type": "stream",
     "text": [
      "[185 188 186]\n",
      "186.33333333333334\n"
     ]
    }
   ],
   "source": [
    "# print(img1[0, 0, 0])\n",
    "# print(img1[0, 0, 1])\n",
    "# print(img1[0, 0, 2])\n",
    "print(img1[0, 0, :]) # rgb color -> gray : (r+g+b)/3 \n",
    "print(img1[0, 0, :].mean())"
   ]
  },
  {
   "cell_type": "code",
   "execution_count": 34,
   "metadata": {},
   "outputs": [
    {
     "name": "stdout",
     "output_type": "stream",
     "text": [
      "[False False False False False  True  True]\n"
     ]
    }
   ],
   "source": [
    "x4 = np.array([10, 20, 30, 40, 50, 60, 70])\n",
    "result_x4 = x4 > 50\n",
    "print(result_x4)"
   ]
  },
  {
   "cell_type": "code",
   "execution_count": 39,
   "metadata": {},
   "outputs": [
    {
     "name": "stdout",
     "output_type": "stream",
     "text": [
      "[[False False False ... False False False]\n",
      " [False False False ... False False False]\n",
      " [False False False ... False False False]\n",
      " ...\n",
      " [False False False ...  True  True  True]\n",
      " [False False False ... False False False]\n",
      " [False False False ... False False False]]\n",
      "[[0 0 0 ... 0 0 0]\n",
      " [0 0 0 ... 0 0 0]\n",
      " [0 0 0 ... 0 0 0]\n",
      " ...\n",
      " [0 0 0 ... 1 1 1]\n",
      " [0 0 0 ... 0 0 0]\n",
      " [0 0 0 ... 0 0 0]]\n"
     ]
    }
   ],
   "source": [
    "result = img2 > 200\n",
    "print(result)\n",
    "print(result.astype('uint8')) # 0 또는 1로 출력"
   ]
  },
  {
   "cell_type": "code",
   "execution_count": 42,
   "metadata": {},
   "outputs": [
    {
     "name": "stdout",
     "output_type": "stream",
     "text": [
      "[[121  74 250 194]\n",
      " [ 18  31 112  78]\n",
      " [122  68 218  24]\n",
      " [ 11  52 201 213]\n",
      " [148  41  32 189]]\n"
     ]
    }
   ],
   "source": [
    "x5 = np.random.randint(0, 256, (5, 4))\n",
    "print(x5)"
   ]
  },
  {
   "cell_type": "code",
   "execution_count": null,
   "metadata": {},
   "outputs": [],
   "source": []
  }
 ],
 "metadata": {
  "kernelspec": {
   "display_name": "Python 3",
   "language": "python",
   "name": "python3"
  },
  "language_info": {
   "codemirror_mode": {
    "name": "ipython",
    "version": 3
   },
   "file_extension": ".py",
   "mimetype": "text/x-python",
   "name": "python",
   "nbconvert_exporter": "python",
   "pygments_lexer": "ipython3",
   "version": "3.8.3"
  }
 },
 "nbformat": 4,
 "nbformat_minor": 4
}
