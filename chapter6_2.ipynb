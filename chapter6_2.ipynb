{
 "cells": [
  {
   "cell_type": "code",
   "execution_count": 2,
   "metadata": {},
   "outputs": [],
   "source": [
    "import cv2\n",
    "import numpy as np\n",
    "import matplotlib.pyplot as plt"
   ]
  },
  {
   "cell_type": "code",
   "execution_count": 4,
   "metadata": {},
   "outputs": [
    {
     "name": "stdout",
     "output_type": "stream",
     "text": [
      "[[0.02222222 0.04444444 0.06666667]\n",
      " [0.08888889 0.11111111 0.13333333]\n",
      " [0.15555556 0.17777778 0.2       ]]\n",
      "3\n",
      "1\n"
     ]
    }
   ],
   "source": [
    "# 2. (numpy) 필터 (mask) 생성하기\n",
    "mask = np.array([[1,2,3], [4,5,6], [7,8,9]])/45\n",
    "n = mask.shape[0]\n",
    "k = np.uint8((n-1)/2)\n",
    "print(mask)\n",
    "print(n)\n",
    "print(k)"
   ]
  },
  {
   "cell_type": "code",
   "execution_count": 6,
   "metadata": {},
   "outputs": [
    {
     "name": "stdout",
     "output_type": "stream",
     "text": [
      "[[168 168 167 ... 171 177 154]\n",
      " [168 167 167 ... 174 182 158]\n",
      " [169 166 167 ... 150 132  99]\n",
      " ...\n",
      " [ 59  61  64 ...  82  98 102]\n",
      " [ 56  61  61 ...  95 110 111]\n",
      " [ 53  61  59 ... 106 116 118]]\n",
      "(220, 220)\n"
     ]
    }
   ],
   "source": [
    "# 3. (numpy) 입력 이미지(inp) 생성하기\n",
    "inp = cv2.imread('images/Lenna.png', cv2.IMREAD_GRAYSCALE)\n",
    "h,w = inp.shape\n",
    "print(inp)\n",
    "print((h,w))"
   ]
  },
  {
   "cell_type": "code",
   "execution_count": 7,
   "metadata": {},
   "outputs": [
    {
     "name": "stdout",
     "output_type": "stream",
     "text": [
      "[[  0.   0.   0. ...   0.   0.   0.]\n",
      " [  0. 168. 168. ... 177. 154.   0.]\n",
      " [  0. 168. 167. ... 182. 158.   0.]\n",
      " ...\n",
      " [  0.  56.  61. ... 110. 111.   0.]\n",
      " [  0.  53.  61. ... 116. 118.   0.]\n",
      " [  0.   0.   0. ...   0.   0.   0.]]\n"
     ]
    }
   ],
   "source": [
    "# 4. zero padding을 적용한 이미지(inp_pad) 생성하기\n",
    "inp_pad = np.zeros((h+2*k, w+2*k))\n",
    "inp_pad[k:h+k, k:w+k] = inp\n",
    "print(inp_pad)"
   ]
  },
  {
   "cell_type": "code",
   "execution_count": 8,
   "metadata": {},
   "outputs": [
    {
     "name": "stdout",
     "output_type": "stream",
     "text": [
      "[[0. 0. 0. ... 0. 0. 0.]\n",
      " [0. 0. 0. ... 0. 0. 0.]\n",
      " [0. 0. 0. ... 0. 0. 0.]\n",
      " ...\n",
      " [0. 0. 0. ... 0. 0. 0.]\n",
      " [0. 0. 0. ... 0. 0. 0.]\n",
      " [0. 0. 0. ... 0. 0. 0.]]\n"
     ]
    }
   ],
   "source": [
    "# 5. numpy를 사용하여, 초기화된 출력 이미지 생성하기\n",
    "out = np.zeros((h+2*k, w+2*k))\n",
    "print(out)"
   ]
  },
  {
   "cell_type": "code",
   "execution_count": 9,
   "metadata": {},
   "outputs": [
    {
     "name": "stdout",
     "output_type": "stream",
     "text": [
      "85.35555555555555\n"
     ]
    }
   ],
   "source": [
    "# 6. 컨볼루션을 수행하고 출력하기 (print)\n",
    "for i in range(k, h+k):\n",
    "    for j in range(k, w+k):\n",
    "        temp = inp_pad[i-k:i+k+1, j-k:j+k+1]\n",
    "        for x in range(0,n):\n",
    "            for y in range(0,n):\n",
    "                out[i,j] += temp[x,y]*mask[x,y]\n",
    "out = out[k:h+k, k:w+k]\n",
    "print(out[100,0])"
   ]
  },
  {
   "cell_type": "code",
   "execution_count": null,
   "metadata": {},
   "outputs": [],
   "source": []
  }
 ],
 "metadata": {
  "kernelspec": {
   "display_name": "Python 3",
   "language": "python",
   "name": "python3"
  },
  "language_info": {
   "codemirror_mode": {
    "name": "ipython",
    "version": 3
   },
   "file_extension": ".py",
   "mimetype": "text/x-python",
   "name": "python",
   "nbconvert_exporter": "python",
   "pygments_lexer": "ipython3",
   "version": "3.8.3"
  }
 },
 "nbformat": 4,
 "nbformat_minor": 4
}
