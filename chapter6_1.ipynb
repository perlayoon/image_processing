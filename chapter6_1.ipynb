{
 "cells": [
  {
   "cell_type": "code",
   "execution_count": 2,
   "metadata": {},
   "outputs": [],
   "source": [
    "import cv2\n",
    "import numpy as np\n",
    "import matplotlib.pyplot as plt"
   ]
  },
  {
   "cell_type": "code",
   "execution_count": 3,
   "metadata": {},
   "outputs": [
    {
     "name": "stdout",
     "output_type": "stream",
     "text": [
      "[[2 0 1]\n",
      " [0 1 2]\n",
      " [1 0 2]]\n",
      "3\n"
     ]
    }
   ],
   "source": [
    "# 2. (numpy) 필터 (mask) 생성하기\n",
    "mask = np.array([[2,0,1], [0,1,2], [1,0,2]])\n",
    "n = mask.shape[0]\n",
    "print(mask)\n",
    "print(n)"
   ]
  },
  {
   "cell_type": "code",
   "execution_count": 4,
   "metadata": {},
   "outputs": [
    {
     "name": "stdout",
     "output_type": "stream",
     "text": [
      "[[1 2 3]\n",
      " [0 1 2]\n",
      " [3 0 1]]\n",
      "(3, 3)\n"
     ]
    }
   ],
   "source": [
    "# 3. (numpy) 입력 이미지(inp) 생성하기\n",
    "inp = np.array([[1,2,3], [0,1,2], [3,0,1]])\n",
    "h,w = inp.shape\n",
    "print(inp)\n",
    "print((h,w))"
   ]
  },
  {
   "cell_type": "code",
   "execution_count": 5,
   "metadata": {},
   "outputs": [
    {
     "name": "stdout",
     "output_type": "stream",
     "text": [
      "[[0. 0. 0.]\n",
      " [0. 0. 0.]\n",
      " [0. 0. 0.]]\n"
     ]
    }
   ],
   "source": [
    "# 4. (numpy) 초기화된 출력 이미지(out) 생성하기\n",
    "out = np.zeros((h,w))\n",
    "print(out)"
   ]
  },
  {
   "cell_type": "code",
   "execution_count": 6,
   "metadata": {},
   "outputs": [
    {
     "name": "stdout",
     "output_type": "stream",
     "text": [
      "[[ 0.  0.  0.]\n",
      " [ 0. 15.  0.]\n",
      " [ 0.  0.  0.]]\n"
     ]
    }
   ],
   "source": [
    "# 5. inp 위치 [1,1] 픽셀값에 대해 컨볼루션을 수행하여, 결과 출력하기 (print)\n",
    "out = np.zeros((h,w))\n",
    "for x in range(0,n):\n",
    "    for y in range(0,n):\n",
    "        out[1,1] += inp[x,y] * mask[x,y]\n",
    "print(out)"
   ]
  }
 ],
 "metadata": {
  "kernelspec": {
   "display_name": "Python 3",
   "language": "python",
   "name": "python3"
  },
  "language_info": {
   "codemirror_mode": {
    "name": "ipython",
    "version": 3
   },
   "file_extension": ".py",
   "mimetype": "text/x-python",
   "name": "python",
   "nbconvert_exporter": "python",
   "pygments_lexer": "ipython3",
   "version": "3.8.3"
  }
 },
 "nbformat": 4,
 "nbformat_minor": 4
}
